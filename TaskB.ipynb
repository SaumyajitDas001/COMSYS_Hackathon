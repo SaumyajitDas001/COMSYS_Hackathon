{
  "nbformat": 4,
  "nbformat_minor": 0,
  "metadata": {
    "colab": {
      "provenance": [],
      "authorship_tag": "ABX9TyOo83qA1qO6eNbRwH9HCBHi",
      "include_colab_link": true
    },
    "kernelspec": {
      "name": "python3",
      "display_name": "Python 3"
    },
    "language_info": {
      "name": "python"
    }
  },
  "cells": [
    {
      "cell_type": "markdown",
      "metadata": {
        "id": "view-in-github",
        "colab_type": "text"
      },
      "source": [
        "<a href=\"https://colab.research.google.com/github/SaumyajitDas001/COMSYS_Hackathon/blob/main/TaskB.ipynb\" target=\"_parent\"><img src=\"https://colab.research.google.com/assets/colab-badge.svg\" alt=\"Open In Colab\"/></a>"
      ]
    },
    {
      "cell_type": "code",
      "execution_count": null,
      "metadata": {
        "colab": {
          "base_uri": "https://localhost:8080/"
        },
        "id": "zCL5PIsw2Pvp",
        "outputId": "1f5fa5e2-ad12-4292-a3c8-ca3a75b61de4"
      },
      "outputs": [
        {
          "output_type": "stream",
          "name": "stdout",
          "text": [
            "Mounted at /content/drive\n"
          ]
        }
      ],
      "source": [
        "from google.colab import drive\n",
        "drive.mount('/content/drive')"
      ]
    },
    {
      "cell_type": "code",
      "source": [
        "! gdown --id 1gRS3YMBCWKy_HkpvtdeoLHsc9RApmB3U"
      ],
      "metadata": {
        "colab": {
          "base_uri": "https://localhost:8080/"
        },
        "id": "xQv10HtmqsMk",
        "outputId": "5d6124ec-e7a3-4c3b-eb6c-27aa500b6159"
      },
      "execution_count": null,
      "outputs": [
        {
          "output_type": "stream",
          "name": "stdout",
          "text": [
            "/usr/local/lib/python3.11/dist-packages/gdown/__main__.py:140: FutureWarning: Option `--id` was deprecated in version 4.3.1 and will be removed in 5.0. You don't need to pass it anymore to use a file ID.\n",
            "  warnings.warn(\n",
            "Downloading...\n",
            "From (original): https://drive.google.com/uc?id=1gRS3YMBCWKy_HkpvtdeoLHsc9RApmB3U\n",
            "From (redirected): https://drive.google.com/uc?id=1gRS3YMBCWKy_HkpvtdeoLHsc9RApmB3U&confirm=t&uuid=73fac43c-8fcc-41ea-8c28-a002063c9791\n",
            "To: /content/TaskB.zip\n",
            "100% 2.22G/2.22G [00:38<00:00, 57.1MB/s]\n"
          ]
        }
      ]
    },
    {
      "cell_type": "code",
      "source": [
        "zip_path = \"/content/TaskB.zip\"\n",
        "\n",
        "import zipfile\n",
        "with zipfile.ZipFile(zip_path, 'r') as zip_ref:\n",
        "    zip_ref.extractall(\"/content\")"
      ],
      "metadata": {
        "id": "BskDrlVJxr9E"
      },
      "execution_count": null,
      "outputs": []
    },
    {
      "cell_type": "code",
      "source": [
        "import os\n",
        "from PIL import Image\n",
        "import torch\n",
        "import torch.nn as nn\n",
        "from torch.utils.data import Dataset, DataLoader\n",
        "from torchvision import transforms, models\n",
        "from sklearn.metrics import accuracy_score"
      ],
      "metadata": {
        "id": "BcjWYXSb7MZ_"
      },
      "execution_count": null,
      "outputs": []
    },
    {
      "cell_type": "code",
      "source": [
        "!ls /content/Task_B/val\n",
        "!ls /content/Task_B/val/Duane_Lee_Chapman/distortion"
      ],
      "metadata": {
        "colab": {
          "base_uri": "https://localhost:8080/"
        },
        "id": "aLWHSF8R_Pca",
        "outputId": "ef014a8f-b2ae-4e56-8f2c-2dd5c39330c1"
      },
      "execution_count": null,
      "outputs": [
        {
          "output_type": "stream",
          "name": "stdout",
          "text": [
            "009_frontal\t       Duane_Lee_Chapman\tMario_Lobo_Zagallo\n",
            "017_frontal\t       Edina_Batar\t\tMark_Broxmeyer\n",
            "018_frontal\t       Elaine_Chao\t\tMark_Warner\n",
            "023_frontal\t       Elizabeth_Hill\t\tMartin_Brodeur\n",
            "024_frontal\t       Elizabeth_Taylor\t\tMartin_Luther_King_III\n",
            "033_frontal\t       Eliza_Manningham-Buller\tMary_Jo_Myers\n",
            "034_frontal\t       Emanuel_Ginobili\t\tMatt_Braker\n",
            "037_frontal\t       Enrique_Bolanos\t\tMelana_Scantlin\n",
            "041_frontal\t       Eric_Hinske\t\tMelissa_Manchester\n",
            "046_frontal\t       Eva_Herzigova\t\tMia_Mottley\n",
            "049_frontal\t       Evie_Lazarou\t\tMichael_Kirby\n",
            "050_frontal\t       Fernando_Valenzuela\tMichele_Placido\n",
            "052_frontal\t       Francisco_Flores\t\tMickey_Gilley\n",
            "058_frontal\t       Fran_Drescher\t\tMiguel_Jimenez\n",
            "061_frontal\t       Franz_Gsell\t\tMike_Maroth\n",
            "069_frontal\t       Gabi_Zimmer\t\tMike_Sherman\n",
            "070_frontal\t       Garry_Kasparov\t\tMilan_Kucan\n",
            "078_frontal\t       Gary_Bettman\t\tMillicent_Martin\n",
            "079_frontal\t       Gene_Autry\t\tMitzi_Gaynor\n",
            "080_frontal\t       George_Blaney\t\tMiyako_Miyazaki\n",
            "083_frontal\t       Gerard_de_Cortanze\tMohammed_Abu_Sharia\n",
            "084_frontal\t       Ghassan_Elashi\t\tMonica_Serra\n",
            "091_frontal\t       Gloria_Gaynor\t\tMonique_Gagnon-Tremblay\n",
            "098_frontal\t       Gregorio_Rosal\t\tMukesh_Ambani\n",
            "105_frontal\t       Guillaume_Depardieu\tNora_Bendijo\n",
            "108_frontal\t       Gustavo_Kuerten\t\tOliver_Stone\n",
            "112_frontal\t       Gus_Van_Sant\t\tOprah_Winfrey\n",
            "120_frontal\t       Hamad_Bin_Jassim\t\tPadraig_Harrington\n",
            "Aaron_Peirsol\t       Hank_Aaron\t\tPaola_Espinoza\n",
            "Adam_Kennedy\t       Hans_Eichel\t\tParis_Hilton\n",
            "Adrian_Nastase\t       Harrison_Ford\t\tPaula_Abdul\n",
            "Ai_Sugiyama\t       Hrithik_Roshan\t\tPaul_Bremer\n",
            "Alain_Cervantes        Hugo_Conte\t\tPaul_Burrell\n",
            "Alanis_Morissette      Hung_Wan-ting\t\tPaul_William_Hurley\n",
            "Albert_Brooks\t       Hunter_Kemper\t\tPedro_Malan\n",
            "Alexandre_Vinokourov   Ibrahim_Hilal\t\tPedro_Solbes\n",
            "Alicia_Molik\t       Isabella_Rossellini\tPeter_Mullan\n",
            "Allison_Searing        Ivan_Helguera\t\tPeter_Rasch\n",
            "Andy_Griffith\t       Jade_Jagger\t\tPrince_Claus\n",
            "Aparna_Pillai\t       Jake_Gyllenhaal\t\tQueen_Noor\n",
            "Aretha_Franklin        James_Brown\t\tRaaf_Schefter\n",
            "Ari_Bousbib\t       James_Butts\t\tRalph_Firman\n",
            "Arnold_Scott\t       James_Hoffa\t\tRalph_Klein\n",
            "Barbara_Boxer\t       Jennifer_Keller\t\tRay_Allen\n",
            "Ben_Glisan\t       Jeri_Ryan\t\tReese_Witherspoon\n",
            "Bill_Fennelly\t       Jesper_Parnevik\t\tRen_Qingjin\n",
            "Bill_Lerach\t       Jesse_James_Leija\tRina_Lazo\n",
            "Bill_Readdy\t       Jessica_Brungo\t\tRoberto_Guaterroma\n",
            "Billy_Gilman\t       Johan_Bruyneel\t\tRoger_King\n",
            "Bing_Crosby\t       John_Nash\t\tRon_Dittemore\n",
            "Boutros_Boutros_Ghali  John_Philip_Elkann\tRoy_Blunt\n",
            "Bruce_Weber\t       Jon_Constance\t\tSalman_Rushdie\n",
            "Buddy_Ryan\t       Jose_Carreras\t\tSanjay_Chawla\n",
            "Candice_Bergen\t       Jose_Lopez_Beltran\tSheila_Fraser\n",
            "Carl_Levin\t       Juan_Francisco_Palencia\tStephen_Daldry\n",
            "Caroline_Kennedy       Juergen_Braehmer\t\tSteve_Cox\n",
            "Carolyn_Dawn_Johnson   Julie_Infante\t\tSteven_Curtis_Chapman\n",
            "Cate_Blanchett\t       Kai-Uwe_Ricke\t\tSteven_Hatfill\n",
            "Charles_Cope\t       Kalid_Kaid\t\tSteve_Phillips\n",
            "Charlotte_Church       Kate_Lee\t\t\tSteve_Zahn\n",
            "Chris_Columbus\t       Kenneth_Branagh\t\tTA_McLendon\n",
            "Chris_Dodd\t       Kevin_Spacey\t\tTeresa_Williams\n",
            "Christian_Von_Wernich  Khaled_Sawalhi\t\tThaksin_Shinawatra\n",
            "Christine_Gregoire     Kiki_Vandeweghe\t\tThierry_Mariani\n",
            "Claudia_Coslovich      Kurt_Budke\t\tThomas_Manger\n",
            "Clive_Woodward\t       Kwon_Young-gil\t\tTim_Floyd\n",
            "Cole_Chapman\t       Larry_Coker\t\tTino_Martinez\n",
            "Colleen_Ryan\t       Laura_Flessel\t\tTom_Koenigs\n",
            "Craig_David\t       Laurie_Hobbs\t\tTomoko_Hagiwara\n",
            "Daja_Bedanova\t       Lea_Fastow\t\tTroy_Aikman\n",
            "Daniel_Darnell\t       Leandrinho_Barbosa\tTroy_Hudson\n",
            "Danny_Ainge\t       Lennart_Johansson\tViara_Vike-Freiberga\n",
            "Dany_Heatley\t       Lili_Marinho\t\tWally_Szczerbiak\n",
            "Daryl_Hannah\t       Linda_Dano\t\tWarren_Beatty\n",
            "Daryl_Smith\t       Lionel_Chalmers\t\tWen_Jiabao\n",
            "David_Hannay\t       Lionel_Richie\t\tWill_Ferrell\n",
            "David_McCallum\t       Lord_Hutton\t\tWilliam_Cocksedge\n",
            "David_Tornberg\t       Luther_Htu\t\tWilliam_Delahunt\n",
            "Dean_Jacek\t       Lutz_Freitag\t\tWilliam_Genego\n",
            "Deece_Eckstein\t       Malak_Habbak\t\tWoodrow_Stanley\n",
            "Dennis_Powell\t       Marc_Anthony\t\tYoelbi_Quesada\n",
            "Dick_Posthumus\t       Marc_Leger\t\tYoon_Young-kwan\n",
            "Donald_Trump\t       Mariano_Zabaleta\n",
            "Douglas_Gansler        Maria_Wetterstrand\n",
            "Duane_Lee_Chapman_0001_blurred.jpg   Duane_Lee_Chapman_0002_blurred.jpg\n",
            "Duane_Lee_Chapman_0001_foggy.jpg     Duane_Lee_Chapman_0002_foggy.jpg\n",
            "Duane_Lee_Chapman_0001_lowlight.jpg  Duane_Lee_Chapman_0002_lowlight.jpg\n",
            "Duane_Lee_Chapman_0001_noisy.jpg     Duane_Lee_Chapman_0002_noisy.jpg\n",
            "Duane_Lee_Chapman_0001_rainy.jpg     Duane_Lee_Chapman_0002_rainy.jpg\n",
            "Duane_Lee_Chapman_0001_resized.jpg   Duane_Lee_Chapman_0002_resized.jpg\n",
            "Duane_Lee_Chapman_0001_sunny.jpg     Duane_Lee_Chapman_0002_sunny.jpg\n"
          ]
        }
      ]
    },
    {
      "cell_type": "code",
      "source": [
        "class CleanDataset(Dataset):\n",
        "    def __init__(self, root_dir, transform=None):\n",
        "        self.image_paths = []\n",
        "        self.labels = []\n",
        "        self.transform = transform\n",
        "        self.class_names = sorted(os.listdir(root_dir))\n",
        "        self.class_to_idx = {name: idx for idx, name in enumerate(self.class_names)}\n",
        "\n",
        "        for class_name in self.class_names:\n",
        "            class_path = os.path.join(root_dir, class_name)\n",
        "            for img in os.listdir(class_path):\n",
        "                if img.lower().endswith(('.jpg', '.png')) and \"distorted\" not in img.lower():\n",
        "                    self.image_paths.append(os.path.join(class_path, img))\n",
        "                    self.labels.append(self.class_to_idx[class_name])\n",
        "\n",
        "    def __len__(self):\n",
        "        return len(self.image_paths)\n",
        "\n",
        "    def __getitem__(self, idx):\n",
        "        img = Image.open(self.image_paths[idx]).convert(\"RGB\")\n",
        "        if self.transform:\n",
        "            img = self.transform(img)\n",
        "        label = self.labels[idx]\n",
        "        return img, label\n",
        "\n",
        "class DistortedDataset(Dataset):\n",
        "    def __init__(self, root_dir, class_to_idx, transform=None):\n",
        "        self.image_paths = []\n",
        "        self.labels = []\n",
        "        self.transform = transform\n",
        "\n",
        "        for class_name in os.listdir(root_dir):\n",
        "            distorted_path = os.path.join(root_dir, class_name, \"distortion\")\n",
        "\n",
        "            if not os.path.isdir(distorted_path):\n",
        "                print(f\"⚠️ Skipped: {distorted_path} is not a valid folder.\")\n",
        "                continue\n",
        "\n",
        "            for img in os.listdir(distorted_path):\n",
        "                if img.lower().endswith(('.jpg', '.jpeg', '.png')):\n",
        "                    full_path = os.path.join(distorted_path, img)\n",
        "                    self.image_paths.append(full_path)\n",
        "                    self.labels.append(class_to_idx[class_name])\n",
        "\n",
        "        print(f\"Loaded {len(self.image_paths)} distorted images.\")\n",
        "        if len(self.image_paths) == 0:\n",
        "            print(\"No images found in any Distorted/ folders!\")\n",
        "\n",
        "    def __len__(self):\n",
        "        return len(self.image_paths)\n",
        "\n",
        "    def __getitem__(self, idx):\n",
        "        img = Image.open(self.image_paths[idx]).convert(\"RGB\")\n",
        "        if self.transform:\n",
        "            img = self.transform(img)\n",
        "        label = self.labels[idx]\n",
        "        return img, label\n"
      ],
      "metadata": {
        "id": "Npc3cySM7PEh"
      },
      "execution_count": null,
      "outputs": []
    },
    {
      "cell_type": "code",
      "source": [
        "import os\n",
        "\n",
        "train_path = '/content/Task_B/train'\n",
        "val_path = '/content/Task_B/val'\n",
        "\n",
        "all_class_names = sorted(list(set(os.listdir(train_path)) | set(os.listdir(val_path))))\n",
        "class_to_idx = {name: idx for idx, name in enumerate(all_class_names)}\n",
        "\n",
        "print(\"Total classes (combined train + val):\", len(class_to_idx))\n",
        "print(\"class_to_idx:\", class_to_idx)"
      ],
      "metadata": {
        "colab": {
          "base_uri": "https://localhost:8080/"
        },
        "id": "1cTtEwasBUnV",
        "outputId": "d65eff96-9743-4b0a-f60e-cf73908cd5dd"
      },
      "execution_count": null,
      "outputs": [
        {
          "output_type": "stream",
          "name": "stdout",
          "text": [
            "Total classes (combined train + val): 1127\n",
            "class_to_idx: {'001_frontal': 0, '002_frontal': 1, '003_frontal': 2, '004_frontal': 3, '005_frontal': 4, '007_frontal': 5, '008_frontal': 6, '009_frontal': 7, '010_frontal': 8, '011_frontal': 9, '012_frontal': 10, '013_frontal': 11, '014_frontal': 12, '015_frontal': 13, '016_frontal': 14, '017_frontal': 15, '018_frontal': 16, '019_frontal': 17, '020_frontal': 18, '021_frontal': 19, '022_frontal': 20, '023_frontal': 21, '024_frontal': 22, '025_frontal': 23, '026_frontal': 24, '027_frontal': 25, '028_frontal': 26, '029_frontal': 27, '030_frontal': 28, '031_frontal': 29, '032_frontal': 30, '033_frontal': 31, '034_frontal': 32, '035_frontal': 33, '036_frontal': 34, '037_frontal': 35, '038_frontal': 36, '039_frontal': 37, '041_frontal': 38, '042_frontal': 39, '043_frontal': 40, '044_frontal': 41, '045_frontal': 42, '046_frontal': 43, '047_frontal': 44, '048_frontal': 45, '049_frontal': 46, '050_frontal': 47, '051_frontal': 48, '052_frontal': 49, '053_frontal': 50, '054_frontal': 51, '055_frontal': 52, '056_frontal': 53, '057_frontal': 54, '058_frontal': 55, '059_frontal': 56, '060_frontal': 57, '061_frontal': 58, '062_frontal': 59, '063_frontal': 60, '064_frontal': 61, '065_frontal': 62, '066_frontal': 63, '067_frontal': 64, '068_frontal': 65, '069_frontal': 66, '070_frontal': 67, '071_frontal': 68, '072_frontal': 69, '075_frontal': 70, '076_frontal': 71, '078_frontal': 72, '079_frontal': 73, '080_frontal': 74, '081_frontal': 75, '082_frontal': 76, '083_frontal': 77, '084_frontal': 78, '085_frontal': 79, '086_frontal': 80, '087_frontal': 81, '088_frontal': 82, '089_frontal': 83, '090_frontal': 84, '091_frontal': 85, '092_frontal': 86, '093_frontal': 87, '094_frontal': 88, '095_frontal': 89, '096_frontal': 90, '098_frontal': 91, '099_frontal': 92, '100_frontal': 93, '102_frontal': 94, '103_frontal': 95, '105_frontal': 96, '106_frontal': 97, '107_frontal': 98, '108_frontal': 99, '109_frontal': 100, '110_frontal': 101, '112_frontal': 102, '113_frontal': 103, '114_frontal': 104, '115_frontal': 105, '117_frontal': 106, '118_frontal': 107, '119_frontal': 108, '120_frontal': 109, '121_frontal': 110, '122_frontal': 111, '123_frontal': 112, '124_frontal': 113, '125_frontal': 114, '128_frontal': 115, '129_frontal': 116, 'Aaron_Guiel': 117, 'Aaron_Patterson': 118, 'Aaron_Peirsol': 119, 'Aaron_Pena': 120, 'Abdul_Majeed_Shobokshi': 121, 'Abdullatif_Sener': 122, 'Abraham_Foxman': 123, 'Adam_Kennedy': 124, 'Adrian_Fernandez': 125, 'Adrian_Nastase': 126, 'Adriana_Perez_Navarro': 127, 'Afton_Smith': 128, 'Agnelo_Queiroz': 129, 'Ahmad_Masood': 130, 'Ai_Sugiyama': 131, 'Aishwarya_Rai': 132, 'Aiysha_Smith': 133, 'Al_Gore': 134, 'Al_Leiter': 135, 'Alain_Cervantes': 136, 'Alan_Ball': 137, 'Alan_Tang_Kwong-wing': 138, 'Alanis_Morissette': 139, 'Alastair_Johnston': 140, 'Albert_Brooks': 141, 'Alberto_Fujimori': 142, 'Alberto_Ruiz_Gallardon': 143, 'Alejandro_Atchugarry': 144, 'Aleksander_Kwasniewski': 145, 'Alex_Gonzalez': 146, 'Alex_King': 147, 'Alexandra_Jackson': 148, 'Alexandra_Pelosi': 149, 'Alexandra_Spann': 150, 'Alexandre_Vinokourov': 151, 'Alexis_Bledel': 152, 'Alfred_Ford': 153, 'Alfredo_Pena': 154, 'Ali_Fallahian': 155, 'Ali_Khamenei': 156, 'Alicia_Molik': 157, 'Aline_Chretien': 158, 'Allen_Iverson': 159, 'Allen_Rock': 160, 'Allison_Searing': 161, 'Alonzo_Mourning': 162, 'Amanda_Beard': 163, 'Amr_Moussa': 164, 'Amy_Pascal': 165, 'Ana_Claudia_Talancon': 166, 'Ana_Palacio': 167, 'Andre_Bucher': 168, 'Andrea_Kiser': 169, 'Andrea_Yates': 170, 'Andrew_Bernard': 171, 'Andy_Garcia': 172, 'Andy_Griffith': 173, 'Andy_North': 174, 'Andy_Warhol': 175, 'Anette_Hosoi': 176, 'Angel_Lockward': 177, 'Angie_Martinez': 178, 'Anna_Chicherova': 179, 'Anne_Cavers': 180, 'Anne_ONeil': 181, 'Annette_Bening': 182, 'Annette_Lu': 183, 'Annie_Machon': 184, 'Anthony_Hopkins': 185, 'Anthony_Lee_Johnson': 186, 'Anthony_Pisciotti': 187, 'Antonio_Elias_Saca': 188, 'Antonio_Palocci': 189, 'Aparna_Pillai': 190, 'Aretha_Franklin': 191, 'Ari_Bousbib': 192, 'Arnold_Scott': 193, 'Ascencion_Barajas': 194, 'Asif_Ali_Zardari': 195, 'Askar_Akayev': 196, 'Atiabet_Ijan_Amabel': 197, 'Atsushi_Sato': 198, 'Babe_Ruth': 199, 'Bak_Chang-Ryun': 200, 'Barbara_Becker': 201, 'Barbara_Boxer': 202, 'Barbara_Brezigar': 203, 'Barry_Nakell': 204, 'Begum_Khaleda_Zia': 205, 'Ben_Glisan': 206, 'Benicio_Del_Toro': 207, 'Benjamin_Netanyahu': 208, 'Bernard_Kerik': 209, 'Betty_Garrison': 210, 'Beyonce_Knowles': 211, 'Bill_Belichick': 212, 'Bill_Butler': 213, 'Bill_Byrne': 214, 'Bill_Fennelly': 215, 'Bill_Kollar': 216, 'Bill_Lerach': 217, 'Bill_OReilly': 218, 'Bill_Pryor': 219, 'Bill_Readdy': 220, 'Billy_Beane': 221, 'Billy_Gilman': 222, 'Billy_Sollie': 223, 'Billy_Tibbets': 224, 'Bing_Crosby': 225, 'Bob_Bowlsby': 226, 'Bob_Geldof': 227, 'Bob_Guccione': 228, 'Bob_Melvin': 229, 'Bob_Riley': 230, 'Bob_Stoops': 231, 'Boutros_Boutros_Ghali': 232, 'Brad_Gushue': 233, 'Brandon_Boyd': 234, 'Brandon_Knight': 235, 'Brandon_Larson': 236, 'Brandon_Robinson': 237, 'Brendan_Hansen': 238, 'Brian_Henson': 239, 'Brian_Scalabrine': 240, 'Brian_Schneider': 241, 'Brian_Wells': 242, 'Brigitte_Boisselier': 243, 'Brittany_Snow': 244, 'Brock_Berlin': 245, 'Bruce_Weber': 246, 'Bryan_Adams': 247, 'Bryan_Chui': 248, 'Bryant_Young': 249, 'Budd_Schulberg': 250, 'Buddy_Ryan': 251, 'Bulent_Ecevit': 252, 'Cabas': 253, 'Cameron_Diaz': 254, 'Candice_Bergen': 255, 'Carl_Levin': 256, 'Carla_Gay_Balingit': 257, 'Carlos_Lordkipanitse': 258, 'Carlos_Ortega': 259, 'Carlos_Salinas': 260, 'Carlos_Savedra': 261, 'Carol_Burnett': 262, 'Caroline_Kennedy': 263, 'Carolyn_Dawn_Johnson': 264, 'Carson_Palmer': 265, 'Cassandra_Heise': 266, 'Cate_Blanchett': 267, 'Catherine_Deneuve': 268, 'Catherine_Ndereba': 269, 'Cathryn_Crawford': 270, 'Celso_Lafer': 271, 'Cemil_Cicek': 272, 'Cesar_Maia': 273, 'Chance_Mock': 274, 'Chandrika_Kumaratunga': 275, 'Chang_Jae_On': 276, 'Chante_Jawan_Mallard': 277, 'Charlene_Barshefsky': 278, 'Charles_Cope': 279, 'Charles_Lebois': 280, 'Charles_Mathews': 281, 'Charles_Pickering': 282, 'Charles_Richardson': 283, 'Charles_Schumer': 284, 'Charlie_Hunnam': 285, 'Charlotte_Church': 286, 'Charlton_Heston': 287, 'Chea_Sophara': 288, 'Chin-Feng_Chen': 289, 'Chip_Ganassi': 290, 'Cho_Myung-kyun': 291, 'Chris_Cirino': 292, 'Chris_Columbus': 293, 'Chris_Dodd': 294, 'Chris_Kolanas': 295, 'Chris_Moore': 296, 'Chris_Rock': 297, 'Christian_Longo': 298, 'Christian_Von_Wernich': 299, 'Christina_Sawaya': 300, 'Christine_Arron': 301, 'Christine_Gregoire': 302, 'Chuck_Eidson': 303, 'Chung_Mong-hun': 304, 'Ciro_Gomes': 305, 'Claudia_Cardinale': 306, 'Claudia_Coslovich': 307, 'Claudio_Abbado': 308, 'Clemente_de_la_Vega': 309, 'Clive_Lloyd': 310, 'Clive_Woodward': 311, 'Cole_Chapman': 312, 'Colin_Powell': 313, 'Colleen_Jones': 314, 'Colleen_Ryan': 315, 'Columba_Bush': 316, 'Compay_Segundo': 317, 'Conchita_Martinez': 318, 'Connie_Chung': 319, 'Corinna_Harfouch': 320, 'Craig_David': 321, 'Crispin_Glover': 322, 'Cristian_Barros': 323, 'Cristina_Torrens_Valero': 324, 'Cynthia_Rowley': 325, 'Dai_Chul_Chyung': 326, 'Daja_Bedanova': 327, 'Dan_Wheldon': 328, 'Daniel_Barenboim': 329, 'Daniel_Chin': 330, 'Daniel_Darnell': 331, 'Daniel_Pearl': 332, 'Daniel_Radcliffe': 333, 'Daniele_Hypolito': 334, 'Danny_Ainge': 335, 'Dany_Heatley': 336, 'Darin_Erstad': 337, 'Dario_Franchitti': 338, 'Darryl_Stingley': 339, 'Daryl_Hannah': 340, 'Daryl_Smith': 341, 'Dave_Lewis': 342, 'Dave_Odom': 343, 'Dave_Robertson': 344, 'Dave_Williams': 345, 'David_Collenette': 346, 'David_Dorfman': 347, 'David_Hannay': 348, 'David_Hanson': 349, 'David_Kelly': 350, 'David_McCallum': 351, 'David_Modell': 352, 'David_Obey': 353, 'David_Przybyszewski': 354, 'David_Tornberg': 355, 'Dean_Barkley': 356, 'Dean_Jacek': 357, 'Debra_Brown': 358, 'Debra_Rose': 359, 'Deece_Eckstein': 360, 'Deena_Burnett': 361, 'Denise_Johnson': 362, 'Deniz_Baykal': 363, 'Dennis_Powell': 364, 'Denzel_Washington': 365, 'Derek_Jeter': 366, 'Derrick_Battie': 367, 'Derrick_Rodgers': 368, 'Desmon_Farmer': 369, 'Diana_Renee_Valdivieso_Dubon': 370, 'Diana_Ross': 371, 'Diane_Ladd': 372, 'Diane_Lane': 373, 'Dick_Latessa': 374, 'Dick_Posthumus': 375, 'Dick_Smothers': 376, 'Din_Samsudin': 377, 'Dion_Glover': 378, 'Dolly_Parton': 379, 'Donald_Keck': 380, 'Donald_Pettit': 381, 'Donald_Trump': 382, 'Donna_Morrissey': 383, 'Donna_Walker': 384, 'Dorthy_Moxley': 385, 'Doug_Moe': 386, 'Douglas_Faneuil': 387, 'Douglas_Gansler': 388, 'Douglas_Paal': 389, 'Drew_Barrymore': 390, 'Duane_Lee_Chapman': 391, 'Dusty_Baker': 392, 'E_Clay_Shaw': 393, 'Ed_Book': 394, 'Ed_Case': 395, 'Ed_Sullivan': 396, 'Edgar_Savisaar': 397, 'Edina_Batar': 398, 'Edward_Belvin': 399, 'Efrain_Rios_Montt': 400, 'Elaine_Chao': 401, 'Elgin_Baylor': 402, 'Eli_Broad': 403, 'Eli_Rosenbaum': 404, 'Elias_Attallah': 405, 'Elin_Nordegren': 406, 'Elinor_Caplan': 407, 'Eliza_Manningham-Buller': 408, 'Elizabeth_Hill': 409, 'Elizabeth_Hurley': 410, 'Elizabeth_Shue': 411, 'Elizabeth_Taylor': 412, 'Ellen_Pompeo': 413, 'Elvis_Costello': 414, 'Emanuel_Ginobili': 415, 'Emily_Mason': 416, 'Emma_Nicholson': 417, 'Emmanuel_Milingo': 418, 'Emyr_Jones_Parry': 419, 'Enrique_Bolanos': 420, 'Enrique_Iglesias': 421, 'Eric_Christian_Olsen': 422, 'Eric_Hinske': 423, 'Eric_Ryan_Donnelly': 424, 'Eric_Vigouroux': 425, 'Eric_Wedge': 426, 'Erwin_Mapasseng': 427, 'Eva_Herzigova': 428, 'Eva_Mendes': 429, 'Evan_Marriott': 430, 'Evie_Lazarou': 431, 'Faisal_Saleh_Hayat': 432, 'Faye_Wong': 433, 'Fazal-ur-Rehman': 434, 'Federico_Trillo': 435, 'Fernando_Leon_de_Aranoa': 436, 'Fernando_Valenzuela': 437, 'Flor_Montulo': 438, 'Florencia_Macri': 439, 'Floyd_Mayweather': 440, 'Fran_Drescher': 441, 'Francisco_Flores': 442, 'Franco_Cangele': 443, 'Francois_Pienaar': 444, 'Frank_Lautenberg': 445, 'Frank_Schmoekel': 446, 'Franz_Gsell': 447, 'Fred_Funk': 448, 'Frederique_van_der_Wal': 449, 'Gabi_Zimmer': 450, 'Gabriel_Farhi': 451, 'Gabriel_Hughes': 452, 'Gael_Garcia_Bermal': 453, 'Garry_Kasparov': 454, 'Garry_McCoy': 455, 'Gary_Bald': 456, 'Gary_Barnett': 457, 'Gary_Bettman': 458, 'Gary_Gitnick': 459, 'Gary_Locke': 460, 'Gary_Marshall': 461, 'Gary_Williams': 462, 'Gene_Autry': 463, 'Gene_Sauers': 464, 'Gennifer_Flowers': 465, 'George_Blaney': 466, 'George_Lopez': 467, 'Georgina_Papin': 468, 'Geovani_Lapentti': 469, 'Gerard_Butler': 470, 'Gerard_de_Cortanze': 471, 'Ghassan_Elashi': 472, 'Gianni_Agnelli': 473, 'Giulietta_Masina': 474, 'Gloria_Gaynor': 475, 'Gong_Li': 476, 'Gong_Ruina': 477, 'Gore_Vidal': 478, 'Graeme_Smith': 479, 'Greg_Hennigar': 480, 'Greg_Ostertag': 481, 'Greg_Rusedski': 482, 'Gregg_Popovich': 483, 'Gregorio_Honasan': 484, 'Gregorio_Rosal': 485, 'Guillaume_Depardieu': 486, 'Guillaume_Soro': 487, 'Guillermo_Ruiz_Polanco': 488, 'Gus_Van_Sant': 489, 'Gustavo_Kuerten': 490, 'Guy_Ritchie': 491, 'Gwendal_Peizerat': 492, 'Habib_Rizieq': 493, 'Hamad_Bin_Jassim': 494, 'Hamid_Karzai': 495, 'Hana_Sadiq': 496, 'Hanan_Ashrawi': 497, 'Hank_Aaron': 498, 'Hank_Stram': 499, 'Hans_Eichel': 500, 'Hans_Leistritz': 501, 'Hans_Peter_Briegel': 502, 'Harrison_Ford': 503, 'Harvey_Fierstein': 504, 'Heidi_Fleiss': 505, 'Helio_Castroneves': 506, 'Herb_Brooks': 507, 'Hermando_Harton': 508, 'Hideki_Sato': 509, 'Hidetoshi_Nakata': 510, 'Horace_Donovan_Reid': 511, 'Hrithik_Roshan': 512, 'Hugh_Campbell': 513, 'Hugo_Chavez': 514, 'Hugo_Conte': 515, 'Hun_Sen': 516, 'Hung_Wan-ting': 517, 'Hunter_Kemper': 518, 'Hushiar_Zebari': 519, 'Hussam_Mohammed_Amin': 520, 'Hussein_Malik': 521, 'Hwang_Doo-yun': 522, 'Ian_Wilmut': 523, 'Ibrahim_Hilal': 524, 'Ignatius_Wang': 525, 'Ilan_Ramon': 526, 'Iran_Brown': 527, 'Irfan_Ahmed': 528, 'Irwan_Fadzi_Idris': 529, 'Isabella_Rossellini': 530, 'Isabelle_Huppert': 531, 'Isaiah_Washington': 532, 'Isidro_Pastor': 533, 'Ismail_Cem': 534, 'Ivan_Helguera': 535, 'JP_Suarez': 536, 'Jack_Welch': 537, 'Jacky_Cheung': 538, 'Jacqueline_Gold': 539, 'Jacqueline_Obradors': 540, 'Jade_Jagger': 541, 'Jake_Gyllenhaal': 542, 'James_Ballenger': 543, 'James_Blake': 544, 'James_Brown': 545, 'James_Butts': 546, 'James_Carville': 547, 'James_Hoffa': 548, 'James_Lockhart': 549, 'James_Mathis': 550, 'James_Meredeth': 551, 'James_Parker': 552, 'James_Sensenbrenner': 553, 'Jamie_Villafane': 554, 'Jane_Krakowski': 555, 'Jane_Leeves': 556, 'Janet_Napolitano': 557, 'Janette_Husarova': 558, 'Janine_Pietsch': 559, 'Jaromir_Jagr': 560, 'Jason_Biggs': 561, 'Jason_Gardner': 562, 'Jason_Priestley': 563, 'Javier_Saviola': 564, 'Jay_Garner': 565, 'Jean-Luc_Bideau': 566, 'Jean-Pierre_Bemba': 567, 'Jean-Pierre_Raffarin': 568, 'Jeanne_Moreau': 569, 'Jeannette_Biedermann': 570, 'Jeff_George': 571, 'Jeffrey_Ashby': 572, 'Jen_Schefft': 573, 'Jennifer_Connelly': 574, 'Jennifer_Furminger': 575, 'Jennifer_Keller': 576, 'Jennifer_Renee_Short': 577, 'Jeong_Se-hyun': 578, 'Jeremy_Fogel': 579, 'Jeremy_Shockey': 580, 'Jeri_Ryan': 581, 'Jerry_Pauley': 582, 'Jerry_Regier': 583, 'Jerry_Rice': 584, 'Jerry_Sexton': 585, 'Jesper_Parnevik': 586, 'Jesse_Helms': 587, 'Jesse_James_Leija': 588, 'Jessica_Brungo': 589, 'Jim_Ahern': 590, 'Jim_Carrey': 591, 'Jim_Harrick': 592, 'Jim_Leach': 593, 'Jim_Paxson': 594, 'Jim_Sterk': 595, 'Jimmy_Jimenez': 596, 'Joan_Dangerfield': 597, 'Jodie_Henry': 598, 'Jody_Richards': 599, 'Joe_Calzaghe': 600, 'Joe_Cocker': 601, 'Joe_Dicaro': 602, 'Joe_Mantello': 603, 'Joe_Plumeri': 604, 'Joerg_Haider': 605, 'Johan_Bruyneel': 606, 'John_Abizaid': 607, 'John_Banko': 608, 'John_Bolton': 609, 'John_Bond': 610, 'John_Connolly': 611, 'John_Eder': 612, 'John_Edwards': 613, 'John_Franco': 614, 'John_Gruden': 615, 'John_Kerr': 616, 'John_Kerry': 617, 'John_Mayer': 618, 'John_McCallum': 619, 'John_Nash': 620, 'John_Paul_DeJoria': 621, 'John_Philip_Elkann': 622, 'Johnny_Benson': 623, 'Johnny_Depp': 624, 'Johnny_Unitas': 625, 'Jolanta_Kwasniewski': 626, 'Jon_Constance': 627, 'Jon_Gruden': 628, 'Jorge_Moreno': 629, 'Jose_Carreras': 630, 'Jose_Cevallos': 631, 'Jose_Lina': 632, 'Jose_Lopez_Beltran': 633, 'Jose_Manuel_Durao_Barroso': 634, 'Jose_Theodore': 635, 'Joseph_LePore': 636, 'Josh_Kronfeld': 637, 'Juan_Carlos_Ortega': 638, 'Juan_Francisco_Palencia': 639, 'Juan_Ignacio_Chela': 640, 'Juanes': 641, 'Juergen_Braehmer': 642, 'Juergen_Peters': 643, 'Jules_Asner': 644, 'Julian_Battle': 645, 'Julie_Infante': 646, 'Justin_Wilson': 647, 'Justine_Pasek': 648, 'Kai-Uwe_Ricke': 649, 'Kaio_Almeida': 650, 'Kalid_Kaid': 651, 'Karen_Allen': 652, 'Karen_Sharpe_Kramer': 653, 'Karin_Pilsaeter': 654, 'Karin_Stoiber': 655, 'Karl-Heinz_Rummenigge': 656, 'Katalin_Kollat': 657, 'Kate_Hudson': 658, 'Kate_Lee': 659, 'Kate_Starbird': 660, 'Kathryn_Morris': 661, 'Katie_Couric': 662, 'Katrin_Susi': 663, 'Keith_Foulke': 664, 'Keith_Tyson': 665, 'Kelli_White': 666, 'Kellie_Coffey': 667, 'Kenneth_Branagh': 668, 'Kenneth_Evans': 669, 'Kevin_Garnett': 670, 'Kevin_Gil': 671, 'Kevin_James': 672, 'Kevin_Satterfield': 673, 'Kevin_Spacey': 674, 'Khaled_Sawalhi': 675, 'Kieran_Culkin': 676, 'Kiki_Vandeweghe': 677, 'Kim_Gandy': 678, 'Klaus_Schwab': 679, 'Klaus_Zwickel': 680, 'Kofi_Annan': 681, 'Kristanna_Loken': 682, 'Kristin_Davis': 683, 'Kristin_Scott': 684, 'Kurt_Budke': 685, 'Kurt_Hellstrom': 686, 'Kurt_Warner': 687, 'Kwon_Young-gil': 688, 'LK_Advani': 689, 'Larry_Anderson': 690, 'Larry_Beinfest': 691, 'Larry_Brown': 692, 'Larry_Coker': 693, 'Larry_Ellison': 694, 'Larry_Ralston': 695, 'Laura_Elena_Harring': 696, 'Laura_Flessel': 697, 'Laura_Marlow': 698, 'Laurence_Fishburne': 699, 'Laurie_Hobbs': 700, 'Lawrence_Di_Rita': 701, 'Lea_Fastow': 702, 'Leander_Paes': 703, 'Leandrinho_Barbosa': 704, 'Lela_Rochon': 705, 'Lennart_Johansson': 706, 'Leo_Mullin': 707, 'Leo_Ramirez': 708, 'Leon_Silver': 709, 'Leonard_Glick': 710, 'Leslie_Wiser_Jr': 711, 'Li_Changchun': 712, 'Li_Peng': 713, 'Li_Zhaoxing': 714, 'Lili_Marinho': 715, 'Lin_Yung_Hsi': 716, 'Linda_Amicangioli': 717, 'Linda_Dano': 718, 'Lindsay_Benko': 719, 'Lindy_Ruff': 720, 'Linus_Roache': 721, 'Lionel_Chalmers': 722, 'Lionel_Richie': 723, 'Lisa_Stone': 724, 'Lloyd_Mudiwa': 725, 'Lord_Hutton': 726, 'Louis_Van_Gaal': 727, 'Luc_Montagnier': 728, 'Lucy_Liu': 729, 'Luis_Gonzalez_Macchi': 730, 'Luther_Htu': 731, 'Lutz_Freitag': 732, 'Lyle_Vanclief': 733, 'Lynne_Thigpen': 734, 'Magda_Kertasz': 735, 'Maha_Habib': 736, 'Malak_Habbak': 737, 'Malcolm_Glazer': 738, 'Malik_Mahmud': 739, 'Manfred_Stolpe': 740, 'Manuela_Montebrun': 741, 'Marc_Anthony': 742, 'Marc_Bulger': 743, 'Marc_Leger': 744, 'Marcelo_Bielsa': 745, 'Marcelo_Ebrard': 746, 'Marco_Irizarry': 747, 'Marcos_Daniel_Jimenez': 748, 'Margie_Puente': 749, 'Maria_Shriver': 750, 'Maria_Wetterstrand': 751, 'Mariah_Carey': 752, 'Marian_Dolan': 753, 'Mariangel_Ruiz_Torrealba': 754, 'Mariano_Zabaleta': 755, 'Marilyn_Monroe': 756, 'Marina_Anissina': 757, 'Mario_Alfaro-Lopez': 758, 'Mario_Lemieux': 759, 'Mario_Lobo_Zagallo': 760, 'Mario_Puzo': 761, 'Maritza_Macias_Furano': 762, 'Mark_Andrew': 763, 'Mark_Broxmeyer': 764, 'Mark_Gangloff': 765, 'Mark_Hanson': 766, 'Mark_Martin': 767, 'Mark_Warner': 768, 'Martha_Bowen': 769, 'Martha_Burk': 770, 'Martha_Martinez_Flores': 771, 'Martin_Bandier': 772, 'Martin_Boryczewski': 773, 'Martin_Brodeur': 774, 'Martin_Cauchon': 775, 'Martin_Landau': 776, 'Martin_Luther_King_III': 777, 'Martin_Torrijos': 778, 'Marwan_Barghouthi': 779, 'Mary_Descenza': 780, 'Mary_Jo_Myers': 781, 'Mary_Matalin': 782, 'Mary_Sue_Coleman': 783, 'Maryn_McKenna': 784, 'Masja_Juel': 785, 'Matt_Braker': 786, 'Matt_Damon': 787, 'Matt_Doherty': 788, 'Matt_Roney': 789, 'Matt_Siebrandt': 790, 'Matthew_Broderick': 791, 'Matthew_Ouimet': 792, 'Maureen_Fanning': 793, 'Maurice_Papon': 794, 'Maurice_Strong': 795, 'Max_von_Sydow': 796, 'Mehmet_Ali_Sahin': 797, 'Melana_Scantlin': 798, 'Melinda_Czink': 799, 'Melissa_Manchester': 800, 'Mia_Mottley': 801, 'Michael_Chang': 802, 'Michael_Donovan': 803, 'Michael_Guiler': 804, 'Michael_Kahn': 805, 'Michael_Kirby': 806, 'Michael_Leavitt': 807, 'Michael_McNeely': 808, 'Michael_Moore': 809, 'Michael_Sullivan': 810, 'Michael_Taylor': 811, 'Michel_Temer': 812, 'Michele_Placido': 813, 'Michelle_Hofland': 814, 'Mickey_Gilley': 815, 'Miguel_Jimenez': 816, 'Mike_Helton': 817, 'Mike_Holmgren': 818, 'Mike_Johanns': 819, 'Mike_Maroth': 820, 'Mike_Samp': 821, 'Mike_Sherman': 822, 'Mike_Smith': 823, 'Mike_Sweeney': 824, 'Mikulas_Dzurinda': 825, 'Milan_Kucan': 826, 'Millicent_Martin': 827, 'Milo_Maestrecampo': 828, 'Milton_Berle': 829, 'Miranda_Gaddis': 830, 'Mirela_Manjani': 831, 'Mitchell_Crooks': 832, 'Mitchell_McLaughlin': 833, 'Mitchell_Swartz': 834, 'Mitzi_Gaynor': 835, 'Miyako_Miyazaki': 836, 'Moby': 837, 'Mohammad_Aktar': 838, 'Mohammad_Al-Sharief': 839, 'Mohammed_Abu_Sharia': 840, 'Mohammed_Ashraf_Hafiz': 841, 'Momir_Nikolic': 842, 'Mona_Ayoub': 843, 'Monica_Seles': 844, 'Monica_Serra': 845, 'Monique_Gagnon-Tremblay': 846, 'Moshe_Katsav': 847, 'Mufti_Mohammad_Syed': 848, 'Mukesh_Ambani': 849, 'Myung_Yang': 850, 'Nadia_Forte': 851, 'Nadine_Vinzens': 852, 'Nancy_Greenlaw': 853, 'Nancy_Sinatra': 854, 'Naomi_Watts': 855, 'Narendra_Modi': 856, 'Natalia_Verbeke': 857, 'Natalia_Vodonova': 858, 'Natalie_Juniardi': 859, 'Nate_Hybl': 860, 'Nathalie_Baye': 861, 'Nebojsa_Pavkovic': 862, 'Nelson_Shanks': 863, 'Nestor_Gonzalez': 864, 'Nick_Nolte': 865, 'Nida_Blanca': 866, 'Noer_Moeis': 867, 'Nora_Bendijo': 868, 'Norodom_Sihanouk': 869, 'Oliver_Stone': 870, 'Omar_el-Heib': 871, 'Oprah_Winfrey': 872, 'Orlando_Bloom': 873, 'Oscar_De_La_Hoya': 874, 'Oscar_Elias_Biscet': 875, 'Oswaldo_Paya': 876, 'Otto_Schily': 877, 'Ozzy_Osbourne': 878, 'Padraig_Harrington': 879, 'Paola_Espinoza': 880, 'Paris_Hilton': 881, 'Parris_Glendening': 882, 'Pascal_Rheaume': 883, 'Pat_Burns': 884, 'Patrice_Chereau': 885, 'Patricia_Hearst': 886, 'Patricia_Heaton': 887, 'Patricia_Johnson': 888, 'Patrick_Stewart': 889, 'Paul_Bremer': 890, 'Paul_Burrell': 891, 'Paul_Li_Calsi': 892, 'Paul_Newman': 893, 'Paul_William_Hurley': 894, 'Paula_Abdul': 895, 'Paula_Prentiss': 896, 'Paulina_Rodriguez_Davila': 897, 'Pedro_Malan': 898, 'Pedro_Solbes': 899, 'Penelope_Ann_Miller': 900, 'Pernilla_Bjorn': 901, 'Pete_Beaudrault': 902, 'Pete_Sampras': 903, 'Peter_Bacanovic': 904, 'Peter_Fisher': 905, 'Peter_Greenaway': 906, 'Peter_Harvey': 907, 'Peter_Hillary': 908, 'Peter_Mackay': 909, 'Peter_Mugyeni': 910, 'Peter_Mullan': 911, 'Peter_Rasch': 912, 'Peter_Shaw': 913, 'Phil_McGraw': 914, 'Phillip_Fulmer': 915, 'Phillipe_Comtois': 916, 'Pio_Laghi': 917, 'Prince_Claus': 918, 'Princess_Anne': 919, 'Princess_Victoria': 920, 'Queen_Beatrix': 921, 'Queen_Noor': 922, 'Raaf_Schefter': 923, 'Ralf_Schumacher': 924, 'Ralph_Firman': 925, 'Ralph_Klein': 926, 'Ralph_Sampson': 927, 'Raoul_Ruiz': 928, 'Ray_Allen': 929, 'Ray_Bradbury': 930, 'Ray_Liotta': 931, 'Raymond_Arthurs': 932, 'Red_Auerbach': 933, 'Reese_Witherspoon': 934, 'Reginald_Hudlin': 935, 'Ren_Qingjin': 936, 'Ricardo_Lopez_Murphy': 937, 'Richard_Jewell': 938, 'Richard_Naughton': 939, 'Richard_Rodriguez': 940, 'Richard_Tubb': 941, 'Rick_Bland': 942, 'Rick_Bragg': 943, 'Rick_Romley': 944, 'Rick_Santorum': 945, 'Rina_Lazo': 946, 'Rita_Moreno': 947, 'Rob_Moore': 948, 'Rob_Niedermayer': 949, 'Robby_Ginepri': 950, 'Robert_Beck': 951, 'Robert_Bullock': 952, 'Robert_Douglas': 953, 'Robert_Duvall': 954, 'Robert_Ehrlich': 955, 'Robert_Pollack': 956, 'Roberto_Carlos': 957, 'Roberto_Guaterroma': 958, 'Roberto_Laratro': 959, 'Robin_McGraw': 960, 'Rodney_Dangerfield': 961, 'Rodrigo_de_la_Cerna': 962, 'Roger_Clemens': 963, 'Roger_Cook': 964, 'Roger_King': 965, 'Roger_Mahony': 966, 'Roger_Staubach': 967, 'Rogerio_Romero': 968, 'Rohinton_Mistry': 969, 'Roman_Tam': 970, 'Ron_Dittemore': 971, 'Ronde_Barber': 972, 'Rosario_Dawson': 973, 'Rosemarie_Stack': 974, 'Roy_Blunt': 975, 'Ruben_Studdard': 976, 'Russell_Crowe': 977, 'Ryan_Goodman': 978, 'Ryan_Nyquist': 979, 'S_Jayakumar': 980, 'Sally_Clark': 981, 'Salma_Hayek': 982, 'Salman_Rushdie': 983, 'Samantha_Daniels': 984, 'Samuel_Waksal': 985, 'Sandra_Banning': 986, 'Sandra_Milo': 987, 'Sanjay_Chawla': 988, 'Sarah_Price': 989, 'Sarah_Weddington': 990, 'Sarah_Wynter': 991, 'Sasha_Alexander': 992, 'Scott_McNealy': 993, 'Scott_Wallach': 994, 'Scott_Weiland': 995, 'Sean_Astin': 996, 'Sean_Patrick_OMalley': 997, 'Sean_Townsend': 998, 'Selma_Phoenix': 999, 'Serge_Klarsfeld': 1000, 'Sergei_Alexandrovitch_Ordzhonikidze': 1001, 'Sergio_Vieira_De_Mello': 1002, 'Seymour_Cassell': 1003, 'Shane_Mosley': 1004, 'Shannon_OBrien': 1005, 'Shannyn_Sossamon': 1006, 'Shawn_Bradley': 1007, 'Sheila_Fraser': 1008, 'Sheila_Taormina': 1009, 'Shireen_Amir_Begum': 1010, 'Shoshannah_Stern': 1011, 'Silvie_Cabero': 1012, 'Simona_Hradil': 1013, 'Slobodan_Milosevic': 1014, 'Sophia_Loren': 1015, 'Sophie': 1016, 'Stanley_McChrystal': 1017, 'Stellan_Skarsgard': 1018, 'Stephen_Daldry': 1019, 'Stephen_Glassroth': 1020, 'Stephen_Thompson': 1021, 'Steve_Austin': 1022, 'Steve_Avery': 1023, 'Steve_Blake': 1024, 'Steve_Case': 1025, 'Steve_Cox': 1026, 'Steve_Mariucci': 1027, 'Steve_Phillips': 1028, 'Steve_Shiver': 1029, 'Steve_Zahn': 1030, 'Steven_Curtis_Chapman': 1031, 'Steven_Hatfill': 1032, 'Stipe_Mesic': 1033, 'Strom_Thurmond': 1034, 'Stuart_Whitman': 1035, 'Sue_Grafton': 1036, 'Sue_Wicks': 1037, 'Sureyya_Ayhan': 1038, 'Suzanne_Haik_Terrell': 1039, 'Suzanne_Mubarak': 1040, 'Suzie_McConnell_Serio': 1041, 'Svend_Aage_Jensby': 1042, 'TA_McLendon': 1043, 'Takenori_Kanzaki': 1044, 'Tammy_Helm': 1045, 'Ted_Christopher': 1046, 'Ted_Williams': 1047, 'Teresa_Heinz_Kerry': 1048, 'Teresa_Williams': 1049, 'Teri_Files': 1050, 'Thaksin_Shinawatra': 1051, 'Thierry_Mariani': 1052, 'Thomas_Fargo': 1053, 'Thomas_Manger': 1054, 'Thomas_OBrien': 1055, 'Tiger_Woods': 1056, 'Tim_Curry': 1057, 'Tim_Duncan': 1058, 'Tim_Floyd': 1059, 'Tim_Howard': 1060, 'Tim_Matheson': 1061, 'Tim_Norbeck': 1062, 'Timbul_Silaen': 1063, 'Tina_Brown': 1064, 'Tino_Martinez': 1065, 'Todd_Petit': 1066, 'Tom_Coughlin': 1067, 'Tom_Cruise': 1068, 'Tom_Glavine': 1069, 'Tom_Hanks': 1070, 'Tom_Koenigs': 1071, 'Tom_Lantos': 1072, 'Tom_Miller': 1073, 'Tom_Ridge': 1074, 'Tom_Rouen': 1075, 'Tom_Welch': 1076, 'Tommy_Shane_Steiner': 1077, 'Tommy_Tubberville': 1078, 'Tomoko_Hagiwara': 1079, 'Tono_Suratman': 1080, 'Tony_Curtis': 1081, 'Tony_Stewart': 1082, 'Trevor_McDonald': 1083, 'Trisha_Meili': 1084, 'Troy_Aikman': 1085, 'Troy_Hudson': 1086, 'Troy_Jenkins': 1087, 'Tuncay_Sanli': 1088, 'Turner_Gill': 1089, 'Ty_Votaw': 1090, 'Tyler_Grillo': 1091, 'Uzi_Even': 1092, 'Valentino_Rossi': 1093, 'Valerie_Harper': 1094, 'Valery_Giscard_dEstaing': 1095, 'Vanessa_Williams': 1096, 'Viara_Vike-Freiberga': 1097, 'Vicente_Fox_de_la_Concha': 1098, 'Vincent_Sombrotto': 1099, 'Vincent_Spadea': 1100, 'Vinnie_Jones': 1101, 'Wally_Szczerbiak': 1102, 'Wan_Yanhai': 1103, 'Wang_Hailan': 1104, 'Wang_Nan': 1105, 'Warren_Beatty': 1106, 'Wayne_Ferreira': 1107, 'Wen_Jiabao': 1108, 'Will_Ferrell': 1109, 'William_Burns': 1110, 'William_Cocksedge': 1111, 'William_Delahunt': 1112, 'William_Genego': 1113, 'William_Morrow': 1114, 'William_Webster': 1115, 'Win_Aung': 1116, 'Wolfgang_Schwarz': 1117, 'Woodrow_Stanley': 1118, 'Wu_Yi': 1119, 'Yang_Jianli': 1120, 'Yasushi_Akashi': 1121, 'Yoelbi_Quesada': 1122, 'Yogi_Berra': 1123, 'Yoon_Young-kwan': 1124, 'Yuri_Luzhkov': 1125, 'Zarai_Toledo': 1126}\n"
          ]
        }
      ]
    },
    {
      "cell_type": "code",
      "source": [
        "transform = transforms.Compose([\n",
        "    transforms.Resize((160, 160)),\n",
        "    transforms.ToTensor(),\n",
        "    transforms.Normalize([0.5]*3, [0.5]*3)\n",
        "])\n",
        "\n",
        "train_dataset = CleanDataset(train_path, transform=transform)\n",
        "train_dataset.class_to_idx = class_to_idx\n",
        "\n",
        "val_dataset = DistortedDataset(val_path, class_to_idx=class_to_idx, transform=transform)\n",
        "\n",
        "train_loader = DataLoader(train_dataset, batch_size=32, shuffle=True)\n",
        "val_loader = DataLoader(val_dataset, batch_size=1, shuffle=False)\n"
      ],
      "metadata": {
        "id": "XMNSpqOt7U66",
        "colab": {
          "base_uri": "https://localhost:8080/"
        },
        "outputId": "a35472c3-34a1-4f8d-ec02-8144e4775402"
      },
      "execution_count": null,
      "outputs": [
        {
          "output_type": "stream",
          "name": "stdout",
          "text": [
            "✅ Loaded 2954 distorted images.\n"
          ]
        }
      ]
    },
    {
      "cell_type": "code",
      "source": [
        "class FaceNet(nn.Module):\n",
        "    def __init__(self, embedding_dim=128):\n",
        "        super(FaceNet, self).__init__()\n",
        "        self.base = models.resnet18(pretrained=True)\n",
        "        self.base.fc = nn.Identity()\n",
        "        self.embedding = nn.Linear(512, embedding_dim)\n",
        "\n",
        "    def forward(self, x):\n",
        "        x = self.base(x)\n",
        "        x = self.embedding(x)\n",
        "        return x\n",
        "\n",
        "class Classifier(nn.Module):\n",
        "    def __init__(self, embedding_dim, num_classes):\n",
        "        super(Classifier, self).__init__()\n",
        "        self.fc = nn.Linear(embedding_dim, num_classes)\n",
        "\n",
        "    def forward(self, x):\n",
        "        return self.fc(x)\n",
        "\n",
        "device = torch.device(\"cuda\" if torch.cuda.is_available() else \"cpu\")\n",
        "model = FaceNet().to(device)\n",
        "classifier = Classifier(128, len(train_dataset.class_names)).to(device)"
      ],
      "metadata": {
        "id": "e-kBhQpP7dsg",
        "colab": {
          "base_uri": "https://localhost:8080/"
        },
        "outputId": "4ba3679a-415a-4c87-d185-1e6d049eff59"
      },
      "execution_count": null,
      "outputs": [
        {
          "output_type": "stream",
          "name": "stderr",
          "text": [
            "/usr/local/lib/python3.11/dist-packages/torchvision/models/_utils.py:208: UserWarning: The parameter 'pretrained' is deprecated since 0.13 and may be removed in the future, please use 'weights' instead.\n",
            "  warnings.warn(\n",
            "/usr/local/lib/python3.11/dist-packages/torchvision/models/_utils.py:223: UserWarning: Arguments other than a weight enum or `None` for 'weights' are deprecated since 0.13 and may be removed in the future. The current behavior is equivalent to passing `weights=ResNet18_Weights.IMAGENET1K_V1`. You can also use `weights=ResNet18_Weights.DEFAULT` to get the most up-to-date weights.\n",
            "  warnings.warn(msg)\n"
          ]
        }
      ]
    },
    {
      "cell_type": "code",
      "source": [
        "criterion = nn.CrossEntropyLoss()\n",
        "optimizer = torch.optim.Adam(list(model.parameters()) + list(classifier.parameters()), lr=1e-4)\n",
        "\n",
        "for epoch in range(10):\n",
        "    model.train()\n",
        "    classifier.train()\n",
        "    total_loss = 0\n",
        "    for images, labels in train_loader:\n",
        "        images, labels = images.to(device), labels.to(device)\n",
        "        embeddings = model(images)\n",
        "        outputs = classifier(embeddings)\n",
        "        loss = criterion(outputs, labels)\n",
        "\n",
        "        optimizer.zero_grad()\n",
        "        loss.backward()\n",
        "        optimizer.step()\n",
        "\n",
        "        total_loss += loss.item()\n",
        "    print(f\"Epoch {epoch+1}, Loss: {total_loss:.4f}\")\n"
      ],
      "metadata": {
        "id": "moXM5qif7glu",
        "colab": {
          "base_uri": "https://localhost:8080/"
        },
        "outputId": "e70eaf41-2003-4766-c3cb-0da2dff01428"
      },
      "execution_count": null,
      "outputs": [
        {
          "output_type": "stream",
          "name": "stdout",
          "text": [
            "Epoch 1, Loss: 370.5749\n",
            "Epoch 2, Loss: 292.2340\n",
            "Epoch 3, Loss: 241.8777\n",
            "Epoch 4, Loss: 200.3042\n",
            "Epoch 5, Loss: 158.0059\n",
            "Epoch 6, Loss: 122.5898\n",
            "Epoch 7, Loss: 90.0765\n",
            "Epoch 8, Loss: 62.1411\n",
            "Epoch 9, Loss: 41.8493\n",
            "Epoch 10, Loss: 26.9883\n"
          ]
        }
      ]
    },
    {
      "cell_type": "code",
      "source": [
        "model.eval()\n",
        "classifier.eval()\n",
        "\n",
        "preds = []\n",
        "trues = []\n",
        "\n",
        "with torch.no_grad():\n",
        "    for images, labels in val_loader:\n",
        "        images, labels = images.to(device), labels.to(device)\n",
        "        emb = model(images)\n",
        "        out = classifier(emb)\n",
        "        pred = torch.argmax(out, dim=1)\n",
        "        preds.append(pred.item())\n",
        "        trues.append(labels.item())\n",
        "print(\"Number of distorted images evaluated:\", len(preds))\n",
        "\n",
        "acc = accuracy_score(trues, preds)\n",
        "print(f\"Validation Accuracy on Distorted Images: {acc:.2%}\")"
      ],
      "metadata": {
        "id": "uXSk-RIc7kDW",
        "colab": {
          "base_uri": "https://localhost:8080/"
        },
        "outputId": "d1c6b152-e581-4686-c26e-21def358364a"
      },
      "execution_count": null,
      "outputs": [
        {
          "output_type": "stream",
          "name": "stdout",
          "text": [
            "Number of distorted images evaluated: 2954\n",
            "Validation Accuracy on Distorted Images: 0.30%\n"
          ]
        }
      ]
    },
    {
      "cell_type": "code",
      "source": [
        "from sklearn.metrics import accuracy_score, precision_score, recall_score, f1_score\n",
        "if len(preds) > 0:\n",
        "    accuracy = accuracy_score(trues, preds)\n",
        "    precision_macro = precision_score(trues, preds, average='macro')\n",
        "    recall_macro = recall_score(trues, preds, average='macro')\n",
        "    f1_macro = f1_score(trues, preds, average='macro')\n",
        "\n",
        "    precision_weighted = precision_score(trues, preds, average='weighted')\n",
        "    recall_weighted = recall_score(trues, preds, average='weighted')\n",
        "    f1_weighted = f1_score(trues, preds, average='weighted')\n",
        "\n",
        "    print(f\"Accuracy: {accuracy:.4f}\")\n",
        "    print(f\"Precision (Macro): {precision_macro:.4f}\")\n",
        "    print(f\"Recall (Macro): {recall_macro:.4f}\")\n",
        "    print(f\"F1 Score (Macro): {f1_macro:.4f}\")\n",
        "\n",
        "    print(f\"Precision (Weighted): {precision_weighted:.4f}\")\n",
        "    print(f\"Recall (Weighted): {recall_weighted:.4f}\")\n",
        "    print(f\"F1 Score (Weighted): {f1_weighted:.4f}\")\n",
        "\n",
        "else:\n",
        "    print(\"No predictions were made. Check dataset or model output.\")\n"
      ],
      "metadata": {
        "colab": {
          "base_uri": "https://localhost:8080/"
        },
        "id": "SMUl7zdARn8o",
        "outputId": "a3e5508b-fa01-4de8-d3bf-087a0121698e"
      },
      "execution_count": null,
      "outputs": [
        {
          "output_type": "stream",
          "name": "stdout",
          "text": [
            "Accuracy: 0.0030\n",
            "Precision (Macro): 0.0039\n",
            "Recall (Macro): 0.0023\n",
            "F1 Score (Macro): 0.0023\n",
            "Precision (Weighted): 0.0048\n",
            "Recall (Weighted): 0.0030\n",
            "F1 Score (Weighted): 0.0029\n"
          ]
        },
        {
          "output_type": "stream",
          "name": "stderr",
          "text": [
            "/usr/local/lib/python3.11/dist-packages/sklearn/metrics/_classification.py:1565: UndefinedMetricWarning: Precision is ill-defined and being set to 0.0 in labels with no predicted samples. Use `zero_division` parameter to control this behavior.\n",
            "  _warn_prf(average, modifier, f\"{metric.capitalize()} is\", len(result))\n",
            "/usr/local/lib/python3.11/dist-packages/sklearn/metrics/_classification.py:1565: UndefinedMetricWarning: Recall is ill-defined and being set to 0.0 in labels with no true samples. Use `zero_division` parameter to control this behavior.\n",
            "  _warn_prf(average, modifier, f\"{metric.capitalize()} is\", len(result))\n",
            "/usr/local/lib/python3.11/dist-packages/sklearn/metrics/_classification.py:1565: UndefinedMetricWarning: Precision is ill-defined and being set to 0.0 in labels with no predicted samples. Use `zero_division` parameter to control this behavior.\n",
            "  _warn_prf(average, modifier, f\"{metric.capitalize()} is\", len(result))\n",
            "/usr/local/lib/python3.11/dist-packages/sklearn/metrics/_classification.py:1565: UndefinedMetricWarning: Recall is ill-defined and being set to 0.0 in labels with no true samples. Use `zero_division` parameter to control this behavior.\n",
            "  _warn_prf(average, modifier, f\"{metric.capitalize()} is\", len(result))\n"
          ]
        }
      ]
    }
  ]
}